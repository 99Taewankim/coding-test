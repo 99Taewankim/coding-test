{
 "cells": [
  {
   "cell_type": "code",
   "execution_count": 21,
   "metadata": {},
   "outputs": [
    {
     "name": "stdout",
     "output_type": "stream",
     "text": [
      "2\n"
     ]
    }
   ],
   "source": [
    "#설탕 배달 2839번\n",
    "n=8\n",
    "a=n//5\n",
    "b=n%5\n",
    "\n",
    "if b==3:\n",
    "    print(a+1)\n",
    "elif b==0:\n",
    "    print(a)\n",
    "else:\n",
    "    if a-1<0:\n",
    "        print(-1)\n",
    "    elif (b+5)%3==0:\n",
    "        print(a+(b+5)//3-1)\n",
    "    elif a-2<0:\n",
    "        print(-1)\n",
    "    elif (b+10)%3==0:\n",
    "        print(a+(b+10)//3-2)\n",
    "    else:\n",
    "        print(-1)\n",
    "    \n",
    "    "
   ]
  },
  {
   "cell_type": "code",
   "execution_count": 44,
   "metadata": {},
   "outputs": [
    {
     "name": "stdout",
     "output_type": "stream",
     "text": [
      "119\n"
     ]
    }
   ],
   "source": [
    "#한수 1065\n",
    "n=500\n",
    "if n==1000:\n",
    "    n=999\n",
    "\n",
    "if n<100:\n",
    "    print(n)\n",
    "else:\n",
    "    count=99\n",
    "    for i in range(100,n+1):\n",
    "        numlst=list(map(int,str(i)))\n",
    "        if numlst[2]-numlst[1]==numlst[1]-numlst[0]:\n",
    "            count+=1\n",
    "    print(count)"
   ]
  },
  {
   "cell_type": "code",
   "execution_count": 66,
   "metadata": {},
   "outputs": [
    {
     "name": "stdout",
     "output_type": "stream",
     "text": [
      "YES\n"
     ]
    }
   ],
   "source": [
    "#괄호 9012번\n",
    "example=\"()()()()(()()())(())\"\n",
    "left=right=0\n",
    "res=\"YES\"\n",
    "for i in example:\n",
    "    if i==\"(\":\n",
    "        left+=1\n",
    "    else:\n",
    "        right+=1\n",
    "    if left<right:\n",
    "        res='NO'\n",
    "        break\n",
    "if left!=right:\n",
    "    res=\"NO\"\n",
    "print(res)"
   ]
  },
  {
   "cell_type": "code",
   "execution_count": 75,
   "metadata": {},
   "outputs": [
    {
     "name": "stdout",
     "output_type": "stream",
     "text": [
      "YES\n"
     ]
    }
   ],
   "source": [
    "#9012번 short coding\n",
    "example=\"()()()()(()()())(())\"\n",
    "while len(example)>1 and '()' in example:\n",
    "    example=example.replace(\"()\",\"\",1)\n",
    "print(\"YES\" if not example else 'NO')\n",
    "#bool(0)=bool(\"\")=False"
   ]
  },
  {
   "cell_type": "code",
   "execution_count": 129,
   "metadata": {},
   "outputs": [],
   "source": [
    "#submission 10828번 스택\n",
    "# import sys\n",
    "# lst=[]\n",
    "# n=int(input())\n",
    "\n",
    "# for i in range(n):\n",
    "#     l=sys.stdin.readline().split()\n",
    "#     if len(l)==2:\n",
    "#         order=l[0]\n",
    "#         num=l[1]\n",
    "#     else:\n",
    "#         order=l[-1]\n",
    "\n",
    "#     if order==\"push\":\n",
    "#         lst.append(num)\n",
    "#     elif order==\"pop\":\n",
    "#         if len(lst)==0:\n",
    "#             print(-1)\n",
    "#         else:\n",
    "#             a= lst[-1]\n",
    "#             del lst[-1]\n",
    "#             print(a)\n",
    "#     elif order=='size':\n",
    "#         print(len(lst))\n",
    "#     elif order=='empty':\n",
    "#         if len(lst)==0:\n",
    "#             print(1)\n",
    "#         else:\n",
    "#             print(0)\n",
    "#     elif order==\"top\":\n",
    "#         if len(lst)==0:\n",
    "#             print(-1)\n",
    "#         else:\n",
    "#             print(lst[-1])"
   ]
  },
  {
   "cell_type": "code",
   "execution_count": 142,
   "metadata": {},
   "outputs": [
    {
     "name": "stdout",
     "output_type": "stream",
     "text": [
      "32\n"
     ]
    }
   ],
   "source": [
    "#ATM 11399번\n",
    "s=\"3 1 4 3 2\"\n",
    "l=list(map(int,s.split()))\n",
    "l.sort()\n",
    "tot=0\n",
    "for i in range(len(l)):\n",
    "    tot+=sum(l[0:i+1])\n",
    "print(tot)"
   ]
  },
  {
   "cell_type": "code",
   "execution_count": null,
   "metadata": {},
   "outputs": [],
   "source": [
    "# #submission\n",
    "# import sys\n",
    "# n=int(input())\n",
    "# l=list(map(int,sys.stdin.readline().split()))\n",
    "# l.sort()\n",
    "# tot=0\n",
    "# for i in range(n):\n",
    "#     tot+=sum(l[0:i+1])\n",
    "# print(tot)"
   ]
  },
  {
   "cell_type": "code",
   "execution_count": 150,
   "metadata": {},
   "outputs": [
    {
     "name": "stdout",
     "output_type": "stream",
     "text": [
      "12\n"
     ]
    }
   ],
   "source": [
    "#동전 0 11047번\n",
    "#easy because available is multiplication of other numbers! -> greedy search\n",
    "n=10\n",
    "k=4790\n",
    "available=[1,5,10,50,100,500,1000,5000,10000]\n",
    "available.sort()\n",
    "available=available[::-1]\n",
    "count=0\n",
    "while k!=0:\n",
    "    for i in range(len(available)):\n",
    "        if k//available[i]>0:\n",
    "            count+=k//available[i]\n",
    "            k-=(k//available[i])*available[i]\n",
    "print(count)\n"
   ]
  },
  {
   "cell_type": "code",
   "execution_count": 148,
   "metadata": {},
   "outputs": [
    {
     "data": {
      "text/plain": [
       "6"
      ]
     },
     "execution_count": 148,
     "metadata": {},
     "output_type": "execute_result"
    }
   ],
   "source": [
    "#submission\n",
    "import sys\n",
    "n,k=map(int,sys.stdin.readline().split())\n",
    "available=[sys.stdin.readline().strip() for j in range(n)]\n",
    "available=[int(i) for i in available]\n",
    "available.sort()\n",
    "available=available[::-1]\n",
    "\n",
    "count=0\n",
    "while k!=0:\n",
    "    for i in range(len(available)):\n",
    "        if k//available[i]>0:\n",
    "            count+=k//available[i]\n",
    "            k-=(k//available[i])*available[i]\n",
    "print(count)\n"
   ]
  },
  {
   "cell_type": "code",
   "execution_count": 157,
   "metadata": {},
   "outputs": [
    {
     "name": "stdout",
     "output_type": "stream",
     "text": [
      "1\n",
      "1\n",
      "0\n",
      "0\n",
      "1\n"
     ]
    }
   ],
   "source": [
    "#수 찾기(1920번) \n",
    "#방법 1 이분 탐색(반복문)\n",
    "sheet=[1,2,3,5,4]\n",
    "find=[1,3,7,9,5]\n",
    "sheet.sort()\n",
    "for i in find:\n",
    "    start=0\n",
    "    end=len(sheet)-1\n",
    "    while start<=end:\n",
    "        idx=(start+end)//2\n",
    "        if i == sheet[idx]:\n",
    "            print(1)\n",
    "            break\n",
    "        elif i>sheet[idx]:\n",
    "            start=idx+1\n",
    "\n",
    "        #중간값이 찾으려는 값보다 더 크다면 -> end 시점을 조절한다\n",
    "        else:\n",
    "            end=idx-1\n",
    "    if start>end:\n",
    "        print(0)"
   ]
  },
  {
   "cell_type": "code",
   "execution_count": 159,
   "metadata": {},
   "outputs": [
    {
     "name": "stdout",
     "output_type": "stream",
     "text": [
      "1\n",
      "0\n",
      "1\n",
      "0\n",
      "0\n"
     ]
    }
   ],
   "source": [
    "#방법 2 이분 탐색(재귀문)\n",
    "sheet=[1,2,5,4,10,9,4]\n",
    "find=[1,3,5,6,7]\n",
    "sheet.sort()\n",
    "def b_search(sheet,target,start,end):\n",
    "    if start> end:\n",
    "        print(0)\n",
    "        return None\n",
    "    mid=(start+end)//2\n",
    "    if sheet[mid]>target:\n",
    "        end=mid-1\n",
    "        b_search(sheet,target,start,end)\n",
    "    elif sheet[mid]<target:\n",
    "        start=mid+1\n",
    "        b_search(sheet,target,start,end)\n",
    "    else:\n",
    "        print(1)\n",
    "        return None\n",
    "for i in find:\n",
    "    b_search(sheet,i,start=0, end=len(sheet)-1)"
   ]
  },
  {
   "cell_type": "code",
   "execution_count": 160,
   "metadata": {},
   "outputs": [],
   "source": [
    "# #submission by 이분탐색-재귀문\n",
    "# import sys\n",
    "# n=int(input())\n",
    "# sheet=list(map(int,sys.stdin.readline().split()))\n",
    "# m=int(input())\n",
    "# find=list(map(int,sys.stdin.readline().split()))\n",
    "# #이분탐색시 정렬은 필수\n",
    "# sheet.sort()\n",
    "\n",
    "# def b_search(sheet,target,start,end):\n",
    "#     if start> end:\n",
    "#         print(0)\n",
    "#         return None\n",
    "#     mid=(start+end)//2\n",
    "#     if sheet[mid]>target:\n",
    "#         end=mid-1\n",
    "#         b_search(sheet,target,start,end)\n",
    "#     elif sheet[mid]<target:\n",
    "#         start=mid+1\n",
    "#         b_search(sheet,target,start,end)\n",
    "#     else:\n",
    "#         print(1)\n",
    "#         return None\n",
    "# for i in find:\n",
    "#     b_search(sheet,i,start=0, end=n-1)"
   ]
  },
  {
   "cell_type": "code",
   "execution_count": 161,
   "metadata": {},
   "outputs": [],
   "source": [
    "# #submission\n",
    "# #방법 2 set으로 시간복잡도 감소시키기\n",
    "# import sys\n",
    "# n=int(input())\n",
    "# sheet=set(map(int,sys.stdin.readline().split()))\n",
    "# m=int(input())\n",
    "# find=list(map(int,sys.stdin.readline().split()))\n",
    "# for i in find:\n",
    "#     if i in sheet:\n",
    "#         print(1)\n",
    "#     else:\n",
    "#         print(0)"
   ]
  },
  {
   "cell_type": "code",
   "execution_count": 162,
   "metadata": {},
   "outputs": [
    {
     "name": "stdout",
     "output_type": "stream",
     "text": [
      "7\n"
     ]
    }
   ],
   "source": [
    "#제로 10773번\n",
    "l=[1,3,5,4,0,0,7,0,0,6]\n",
    "savel=[]\n",
    "for i in l:\n",
    "    if i!=0:\n",
    "        savel.append(i)\n",
    "    else:\n",
    "        del savel[-1]\n",
    "print(sum(savel))"
   ]
  },
  {
   "cell_type": "code",
   "execution_count": null,
   "metadata": {},
   "outputs": [],
   "source": [
    "# #submission\n",
    "# import sys\n",
    "# n=int(input())\n",
    "# l=[sys.stdin.readline().strip() for i in range(n)]\n",
    "# l=[int(i) for i in l]\n",
    "# savel=[]\n",
    "# for i in l:\n",
    "#     if i!=0:\n",
    "#         savel.append(i)\n",
    "#     else:\n",
    "#         del savel[-1]\n",
    "# print(sum(savel))\n"
   ]
  },
  {
   "cell_type": "code",
   "execution_count": 356,
   "metadata": {},
   "outputs": [
    {
     "name": "stdout",
     "output_type": "stream",
     "text": [
      "12\n"
     ]
    }
   ],
   "source": [
    "#체스판 다시 칠하기 1018번(넘파이 사용버전)\n",
    "import numpy as np\n",
    "n=10\n",
    "m=13\n",
    "board=\"\"\"\n",
    "BBBBBBBBWBWBW\n",
    "BBBBBBBBBWBWB\n",
    "BBBBBBBBWBWBW\n",
    "BBBBBBBBBWBWB\n",
    "BBBBBBBBWBWBW\n",
    "BBBBBBBBBWBWB\n",
    "BBBBBBBBWBWBW\n",
    "BBBBBBBBBWBWB\n",
    "WWWWWWWWWWBWB\n",
    "WWWWWWWWWWBWB\n",
    "\"\"\"\n",
    "board=board.replace('\\n',\"\")\n",
    "commastr=\"\"\n",
    "for i in board:\n",
    "    commastr+=i\n",
    "    commastr+=\",\"\n",
    "l=commastr.split(',')\n",
    "l=l[:-1]\n",
    "#print(l)\n",
    "\n",
    "answerlst1=[]\n",
    "answerlst2=[]\n",
    "\n",
    "for i in range(8):\n",
    "    if i%2==0:\n",
    "        chn=1\n",
    "    else:\n",
    "        chn=0\n",
    "\n",
    "    for j in range(8):\n",
    "        if (j+chn)%2==0:\n",
    "            answerlst1.append(\"W\")\n",
    "        else:\n",
    "            answerlst1.append(\"B\")\n",
    "for i in answerlst1:\n",
    "    if i==\"B\":\n",
    "        answerlst2.append(\"W\")\n",
    "    else:\n",
    "        answerlst2.append(\"B\")\n",
    "def arr_check(comparearr,ansarr):\n",
    "    count=0\n",
    "    for i in range(8):\n",
    "        for j in range(8):\n",
    "            if comparearr[i,j]==ansarr[i,j]:\n",
    "                count+=1\n",
    "    return count\n",
    "\n",
    "num=64\n",
    "ansarr1=np.array(answerlst1).reshape(8,8)\n",
    "ansarr2=np.array(answerlst2).reshape(8,8)\n",
    "arr=np.array(l).reshape(n,m)\n",
    "for i in range(n-7):\n",
    "    for j in range(m-7):\n",
    "        comparearr=arr[0+i:8+i,0+j:8+j]\n",
    "        num=min(num,arr_check(comparearr,ansarr1),arr_check(comparearr,ansarr2))\n",
    "print(num)\n",
    "        \n",
    "        \n",
    "\n",
    "\n",
    "\n"
   ]
  },
  {
   "cell_type": "code",
   "execution_count": 371,
   "metadata": {},
   "outputs": [
    {
     "name": "stdout",
     "output_type": "stream",
     "text": [
      "12\n"
     ]
    }
   ],
   "source": [
    "#체스판 다시 칠하기 1018번(넘파이 사용x)\n",
    "\n",
    "n=10\n",
    "m=13\n",
    "board=\"\"\"\n",
    "BBBBBBBBWBWBW\n",
    "BBBBBBBBBWBWB\n",
    "BBBBBBBBWBWBW\n",
    "BBBBBBBBBWBWB\n",
    "BBBBBBBBWBWBW\n",
    "BBBBBBBBBWBWB\n",
    "BBBBBBBBWBWBW\n",
    "BBBBBBBBBWBWB\n",
    "WWWWWWWWWWBWB\n",
    "WWWWWWWWWWBWB\n",
    "\"\"\"\n",
    "board=board.replace('\\n',\"\")\n",
    "\n",
    "commastr=\"\"\n",
    "for i in board:\n",
    "    commastr+=i\n",
    "    commastr+=\",\"\n",
    "l=commastr.split(',')\n",
    "l=l[:-1]\n",
    "#print(l)\n",
    "\n",
    "answerlst1=[]\n",
    "answerlst2=[]\n",
    "\n",
    "for i in range(8):\n",
    "    if i%2==0:\n",
    "        chn=1\n",
    "    else:\n",
    "        chn=0\n",
    "\n",
    "    for j in range(8):\n",
    "        if (j+chn)%2==0:\n",
    "            answerlst1.append(\"W\")\n",
    "        else:\n",
    "            answerlst1.append(\"B\")\n",
    "for i in answerlst1:\n",
    "    if i==\"B\":\n",
    "        answerlst2.append(\"W\")\n",
    "    else:\n",
    "        answerlst2.append(\"B\")\n",
    "\n",
    "def compare(lst,answer):\n",
    "    count=0\n",
    "    for i in range(len(lst)):\n",
    "        if lst[i]==answer[i]:\n",
    "            count+=1\n",
    "    return count\n",
    "\n",
    "ans=64\n",
    "\n",
    "for i in range(m-7):\n",
    "    for j in range(n-7):\n",
    "        lst=[]\n",
    "        for k in range(8):\n",
    "            makelst=l[(0+i)+m*j+m*k:(8+i)+m*j+m*k]\n",
    "            #print(n*j+n*k+(8+i))\n",
    "            #print((0+i)+m*j+m*k,end=\",\")\n",
    "            for item in makelst:\n",
    "                lst.append(item)\n",
    "\n",
    "        ans=min(64-compare(lst,answerlst1),64-compare(lst,answerlst2),ans)\n",
    "            \n",
    "print(ans)\n"
   ]
  },
  {
   "cell_type": "code",
   "execution_count": null,
   "metadata": {},
   "outputs": [],
   "source": [
    "# #submission\n",
    "# #체스판 다시 칠하기 1018번\n",
    "# import sys\n",
    "# n,m=map(int,sys.stdin.readline().split())\n",
    "\n",
    "# board=\"\"\n",
    "# for k in range(n):\n",
    "#     board+=sys.stdin.readline().strip()\n",
    "# board=board.replace('\\n',\"\")\n",
    "\n",
    "# commastr=\"\"\n",
    "# for i in board:\n",
    "#     commastr+=i\n",
    "#     commastr+=\",\"\n",
    "# l=commastr.split(',')\n",
    "# l=l[:-1]\n",
    "\n",
    "\n",
    "# answerlst1=[]\n",
    "# answerlst2=[]\n",
    "\n",
    "# for i in range(8):\n",
    "#     if i%2==0:\n",
    "#         chn=1\n",
    "#     else:\n",
    "#         chn=0\n",
    "\n",
    "#     for j in range(8):\n",
    "#         if (j+chn)%2==0:\n",
    "#             answerlst1.append(\"W\")\n",
    "#         else:\n",
    "#             answerlst1.append(\"B\")\n",
    "# for i in answerlst1:\n",
    "#     if i==\"B\":\n",
    "#         answerlst2.append(\"W\")\n",
    "#     else:\n",
    "#         answerlst2.append(\"B\")\n",
    "\n",
    "# def compare(lst,answer):\n",
    "#     count=0\n",
    "#     for i in range(len(lst)):\n",
    "#         if lst[i]==answer[i]:\n",
    "#             count+=1\n",
    "#     return count\n",
    "\n",
    "# ans=64\n",
    "\n",
    "# for i in range(m-7):\n",
    "#     for j in range(n-7):\n",
    "#         lst=[]\n",
    "#         for k in range(8):\n",
    "#             makelst=l[(0+i)+m*j+m*k:(8+i)+m*j+m*k]\n",
    "#             for item in makelst:\n",
    "#                 lst.append(item)\n",
    "\n",
    "#         ans=min(64-compare(lst,answerlst1),64-compare(lst,answerlst2),ans)\n",
    "            \n",
    "# print(ans)\n"
   ]
  },
  {
   "cell_type": "code",
   "execution_count": null,
   "metadata": {},
   "outputs": [],
   "source": []
  }
 ],
 "metadata": {
  "kernelspec": {
   "display_name": "Python 3",
   "language": "python",
   "name": "python3"
  },
  "language_info": {
   "codemirror_mode": {
    "name": "ipython",
    "version": 3
   },
   "file_extension": ".py",
   "mimetype": "text/x-python",
   "name": "python",
   "nbconvert_exporter": "python",
   "pygments_lexer": "ipython3",
   "version": "3.11.2"
  },
  "orig_nbformat": 4
 },
 "nbformat": 4,
 "nbformat_minor": 2
}
