{
 "cells": [
  {
   "cell_type": "code",
   "execution_count": 51,
   "metadata": {},
   "outputs": [
    {
     "name": "stdout",
     "output_type": "stream",
     "text": [
      "3\n"
     ]
    }
   ],
   "source": [
    "#group word checker\n",
    "num=[4,'happy','new','year','ababb']\n",
    "count=0\n",
    "\n",
    "for i in num[1:]:\n",
    "    if len(i)==1:\n",
    "        count+=1\n",
    "    else:\n",
    "        empty_set=set()\n",
    "        boolean=1\n",
    "        for index,variable in enumerate(i):\n",
    "            last_word=i[max(index-1,0)]\n",
    "            #print(empty_set)\n",
    "            #print(last_word)\n",
    "            #print(variable)\n",
    "            if variable in empty_set and last_word!= variable:\n",
    "            #    print(i)\n",
    "                boolean=0\n",
    "                break\n",
    "            else:\n",
    "                empty_set.add(variable)\n",
    "        count+=boolean\n",
    "        \n",
    "print(count)"
   ]
  },
  {
   "cell_type": "code",
   "execution_count": 52,
   "metadata": {},
   "outputs": [],
   "source": [
    "#submission\n",
    "# num=int(input())\n",
    "# count=0\n",
    "# for iter in range(num):\n",
    "#     i=input()\n",
    "#     if len(i)==1:\n",
    "#         count+=1\n",
    "#     else:\n",
    "#         empty_set=set()\n",
    "#         boolean=1\n",
    "#         for index,variable in enumerate(i):\n",
    "#             last_word=i[max(index-1,0)]\n",
    "#             #print(empty_set)\n",
    "#             #print(last_word)\n",
    "#             #print(variable)\n",
    "#             if variable in empty_set and last_word!= variable:\n",
    "#             #    print(i)\n",
    "#                 boolean=0\n",
    "#                 break\n",
    "#             else:\n",
    "#                 empty_set.add(variable)\n",
    "#         count+=boolean\n",
    "# print(count)\n",
    "\n"
   ]
  },
  {
   "cell_type": "code",
   "execution_count": 73,
   "metadata": {},
   "outputs": [
    {
     "name": "stdout",
     "output_type": "stream",
     "text": [
      "1\n",
      "2\n",
      "3\n",
      "4\n"
     ]
    }
   ],
   "source": [
    "#수 정렬하기 2(2751번)\n",
    "l=[1,2,4,3]\n",
    "l.sort()\n",
    "for i in l:\n",
    "    print(i)"
   ]
  },
  {
   "cell_type": "code",
   "execution_count": null,
   "metadata": {},
   "outputs": [],
   "source": [
    "#reverse시에는 sorted(l)[::-1]"
   ]
  },
  {
   "cell_type": "code",
   "execution_count": 74,
   "metadata": {},
   "outputs": [],
   "source": [
    "#참고 사이트(sys.stdin.readline() 사용법)\n",
    "#https://velog.io/@yeseolee/Python-%ED%8C%8C%EC%9D%B4%EC%8D%AC-%EC%9E%85%EB%A0%A5-%EC%A0%95%EB%A6%ACsys.stdin.readline"
   ]
  },
  {
   "cell_type": "code",
   "execution_count": null,
   "metadata": {},
   "outputs": [],
   "source": [
    "#수 정렬하기 2 submission\n",
    "# import sys\n",
    "\n",
    "# n = int(input())\n",
    "# l=[]\n",
    "# for i in range(n):\n",
    "#     l.append(int(sys.stdin.readline()))\n",
    "\n",
    "# l.sort()\n",
    "\n",
    "# for i in num:\n",
    "#     print(i)"
   ]
  },
  {
   "cell_type": "code",
   "execution_count": 88,
   "metadata": {},
   "outputs": [
    {
     "name": "stdout",
     "output_type": "stream",
     "text": [
      "6\n"
     ]
    }
   ],
   "source": [
    "#2941 croatia alphabet\n",
    "ex='ljes=njak'\n",
    "count=0\n",
    "starter=False\n",
    "lst=['c=','c-','d-','lj','nj','s=','z=']\n",
    "for idx,v in enumerate(ex):\n",
    "    if idx==0 or starter==True:\n",
    "        starter=False\n",
    "        continue\n",
    "    else:\n",
    "        last_letter=ex[idx-1]\n",
    "        if last_letter+v in lst:\n",
    "            count+=1\n",
    "            starter=True\n",
    "\n",
    "count2=0\n",
    "lst2=['dz=']\n",
    "for i in range(len(ex)-2):\n",
    "    if ex[i:i+3] in lst2:\n",
    "        count2+=1\n",
    "print(len(ex)-count-count2)\n"
   ]
  },
  {
   "cell_type": "code",
   "execution_count": 90,
   "metadata": {},
   "outputs": [
    {
     "name": "stdout",
     "output_type": "stream",
     "text": [
      "!e!!ak\n",
      "6\n"
     ]
    }
   ],
   "source": [
    "#much more easier version\n",
    "lst = ['c=','c-','dz=','d-','lj','nj','s=','z=']\n",
    "ex='ljes=njak'\n",
    "for alphabet in lst:\n",
    "    if alphabet in ex:\n",
    "        ex=ex.replace(alphabet,'!')\n",
    "print(ex)\n",
    "print(len(ex)) "
   ]
  },
  {
   "cell_type": "code",
   "execution_count": 123,
   "metadata": {},
   "outputs": [
    {
     "name": "stdout",
     "output_type": "stream",
     "text": [
      "i\n",
      "im\n",
      "it\n",
      "no\n",
      "but\n",
      "more\n",
      "wait\n",
      "wont\n",
      "yours\n",
      "cannot\n",
      "hesitate\n"
     ]
    }
   ],
   "source": [
    "#1181 단어정렬\n",
    "wordlst=['but','i','wont','hesitate','no','more','no','more','it','cannot','wait','im','yours']\n",
    "#중복제거\n",
    "wordlst=list(set(wordlst))\n",
    "\n",
    "#길이가 짧은 것 부터\n",
    "dict1=dict()\n",
    "for i in wordlst:\n",
    "    dict1[i]=len(i)\n",
    "standard1=dict(sorted(dict1.items(),key=lambda x : x[1]))\n",
    "a=list(standard1.keys())\n",
    "\n",
    "#길이가 같으면 사전순으로 소팅\n",
    "baseline_length=0\n",
    "emptylst=[]\n",
    "savelst=[]\n",
    "\n",
    "for i in a:\n",
    "    circulated_length=len(i)\n",
    "    if baseline_length<len(i):\n",
    "        baseline_length=len(i)\n",
    "        savelst.sort()\n",
    "        for j in savelst:\n",
    "            emptylst.append(j)\n",
    "        savelst=[]\n",
    "        savelst.append(i)\n",
    "    else:\n",
    "        savelst.append(i)\n",
    "\n",
    "savelst.sort()\n",
    "for j in savelst:\n",
    "    emptylst.append(j)\n",
    "    \n",
    "for i in emptylst:\n",
    "    print(i)"
   ]
  },
  {
   "cell_type": "code",
   "execution_count": 124,
   "metadata": {},
   "outputs": [],
   "source": [
    "#submission\n",
    "# import sys\n",
    "# n=int(input())\n",
    "# wordlst=[]\n",
    "# for i in range(n):\n",
    "#     wordlst.append(sys.stdin.readline().strip())\n",
    "# #중복제거\n",
    "# wordlst=list(set(wordlst))\n",
    "\n",
    "# #길이가 짧은 것 부터\n",
    "# dict1=dict()\n",
    "# for i in wordlst:\n",
    "#     dict1[i]=len(i)\n",
    "# standard1=dict(sorted(dict1.items(),key=lambda x : x[1]))\n",
    "# a=list(standard1.keys())\n",
    "\n",
    "# #길이가 같으면 사전순으로 소팅\n",
    "# baseline_length=0\n",
    "# emptylst=[]\n",
    "# savelst=[]\n",
    "\n",
    "# for i in a:\n",
    "#     circulated_length=len(i)\n",
    "#     if baseline_length<len(i):\n",
    "#         baseline_length=len(i)\n",
    "#         savelst.sort()\n",
    "#         for j in savelst:\n",
    "#             emptylst.append(j)\n",
    "#         savelst=[]\n",
    "#         savelst.append(i)\n",
    "#     else:\n",
    "#         savelst.append(i)\n",
    "\n",
    "# savelst.sort()\n",
    "# for j in savelst:\n",
    "#     emptylst.append(j)\n",
    "    \n",
    "# for i in emptylst:\n",
    "#     print(i)\n",
    "\n",
    "    "
   ]
  },
  {
   "cell_type": "code",
   "execution_count": 132,
   "metadata": {},
   "outputs": [
    {
     "name": "stdout",
     "output_type": "stream",
     "text": [
      "i\n",
      "im\n",
      "it\n",
      "no\n",
      "but\n",
      "more\n",
      "wait\n",
      "wont\n",
      "yours\n",
      "cannot\n",
      "hesitate\n"
     ]
    }
   ],
   "source": [
    "#short code\n",
    "wordlst=['but','i','wont','hesitate','no','more','no','more','it','cannot','wait','im','yours']\n",
    "\n",
    "for w in sorted(sorted(set(wordlst)),key=len):\n",
    "    print(w)\n"
   ]
  },
  {
   "cell_type": "code",
   "execution_count": 170,
   "metadata": {},
   "outputs": [
    {
     "name": "stdout",
     "output_type": "stream",
     "text": [
      "2/4\n"
     ]
    }
   ],
   "source": [
    "#분수찾기 1193번\n",
    "n=14\n",
    "startnum=1\n",
    "count=0\n",
    "while n>0:\n",
    "    n-=startnum\n",
    "    count+=1\n",
    "    startnum+=1\n",
    "\n",
    "#print(count)\n",
    "#print(n+startnum-1)\n",
    "adj=n+startnum-2\n",
    "\n",
    "nom=count\n",
    "denom=1\n",
    "nom-=adj\n",
    "denom+=adj\n",
    "\n",
    "if count%2!=0:\n",
    "    print(str(nom)+\"/\"+str(denom))\n",
    "else:\n",
    "    print(str(denom)+\"/\"+str(nom))\n"
   ]
  }
 ],
 "metadata": {
  "kernelspec": {
   "display_name": "Python 3",
   "language": "python",
   "name": "python3"
  },
  "language_info": {
   "codemirror_mode": {
    "name": "ipython",
    "version": 3
   },
   "file_extension": ".py",
   "mimetype": "text/x-python",
   "name": "python",
   "nbconvert_exporter": "python",
   "pygments_lexer": "ipython3",
   "version": "3.11.2"
  },
  "orig_nbformat": 4
 },
 "nbformat": 4,
 "nbformat_minor": 2
}
